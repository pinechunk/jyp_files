{
 "cells": [
  {
   "cell_type": "code",
   "execution_count": null,
   "id": "2f2f9a71",
   "metadata": {
    "pycharm": {
     "name": "#%%\n",
     "is_executing": true
    }
   },
   "outputs": [],
   "source": [
    "import pandas as pd\n",
    "import numpy as np\n",
    "import matplotlib.pyplot as plt\n",
    "import seaborn as sns\n",
    "%matplotlib inline\n",
    "sns.set_style(\"darkgrid\")\n",
    "data = pd.read_csv('C:\\\\Users\\\\LEGION\\\\Documents\\\\bank_data_train_d02.csv\\\\bank_data_train_d02.csv', index_col='ID')"
   ]
  },
  {
   "cell_type": "code",
   "execution_count": null,
   "id": "3b3f1ec1",
   "metadata": {
    "pycharm": {
     "name": "#%%\n",
     "is_executing": true
    }
   },
   "outputs": [],
   "source": [
    "from sklearn.model_selection import train_test_split\n",
    "X_train, X_test, y_train, y_test = train_test_split(data.drop('TARGET',axis=1), data['TARGET'], test_size=0.2, random_state=21)"
   ]
  },
  {
   "cell_type": "code",
   "execution_count": 5,
   "id": "c31f9e62",
   "metadata": {
    "pycharm": {
     "name": "#%%\n"
    }
   },
   "outputs": [],
   "source": [
    "from sklearn.model_selection import cross_val_score\n",
    "from sklearn.linear_model import LogisticRegression\n",
    "clf = LogisticRegression(random_state=21, fit_intercept=False, solver='liblinear')\n",
    "data1 = cross_val_score(clf, X_train, y_train, cv=5, scoring = 'roc_auc')"
   ]
  },
  {
   "cell_type": "code",
   "execution_count": 6,
   "id": "3b5474ca",
   "metadata": {
    "pycharm": {
     "name": "#%%\n"
    }
   },
   "outputs": [
    {
     "data": {
      "text/plain": [
       "(array([0.74560109, 0.74738986, 0.74907082, 0.73928071, 0.74662717]),\n",
       " 74.5593929670574)"
      ]
     },
     "execution_count": 6,
     "metadata": {},
     "output_type": "execute_result"
    }
   ],
   "source": [
    "data1,\\\n",
    "data1.mean()*100"
   ]
  },
  {
   "cell_type": "code",
   "execution_count": 10,
   "id": "e01daf3a",
   "metadata": {
    "pycharm": {
     "name": "#%%\n"
    }
   },
   "outputs": [
    {
     "data": {
      "text/plain": [
       "(array([0.58661854, 0.58097801, 0.58161613, 0.58613487, 0.58683596]),\n",
       " 58.44367026890801)"
      ]
     },
     "execution_count": 10,
     "metadata": {},
     "output_type": "execute_result"
    }
   ],
   "source": [
    "from sklearn.tree import DecisionTreeClassifier\n",
    "from sklearn.metrics import accuracy_score\n",
    "clf2 = DecisionTreeClassifier(random_state=21)\n",
    "data2 = cross_val_score(clf2, X_train, y_train, cv=5, scoring = 'roc_auc')\n",
    "data2,\\\n",
    "data2.mean()*100"
   ]
  },
  {
   "cell_type": "code",
   "execution_count": 9,
   "id": "b047ba00",
   "metadata": {
    "pycharm": {
     "name": "#%%\n"
    }
   },
   "outputs": [
    {
     "data": {
      "text/plain": [
       "(array([0.81614526, 0.81562656, 0.82141316, 0.80706198, 0.81436966]),\n",
       " 81.49233258961273)"
      ]
     },
     "execution_count": 9,
     "metadata": {},
     "output_type": "execute_result"
    }
   ],
   "source": [
    "import warnings\n",
    "warnings.simplefilter(action='ignore', category=FutureWarning)\n",
    "from sklearn.ensemble import RandomForestClassifier\n",
    "clf3 = RandomForestClassifier(random_state=21)\n",
    "data3 = cross_val_score(clf3, X_train, y_train, cv=5, scoring = 'roc_auc')\n",
    "data3,\\\n",
    "data3.mean()*100"
   ]
  },
  {
   "cell_type": "code",
   "execution_count": 8,
   "id": "2cd72a19",
   "metadata": {
    "pycharm": {
     "name": "#%%\n"
    }
   },
   "outputs": [
    {
     "data": {
      "text/plain": [
       "(array([0.8308704 , 0.82904616, 0.8355422 , 0.82728423, 0.83267754]),\n",
       " 83.1084106663536)"
      ]
     },
     "execution_count": 8,
     "metadata": {},
     "output_type": "execute_result"
    }
   ],
   "source": [
    "from sklearn.ensemble import GradientBoostingClassifier\n",
    "clf4 = GradientBoostingClassifier(random_state=21)\n",
    "data4 = cross_val_score(clf4, X_train, y_train, cv=5, scoring = 'roc_auc')\n",
    "data4,\\\n",
    "data4.mean()*100"
   ]
  },
  {
   "cell_type": "markdown",
   "id": "3926a23a",
   "metadata": {
    "pycharm": {
     "name": "#%% md\n"
    }
   },
   "source": [
    "# ПОДБОР ГИПЕРПАРАМЕТРОВ ДЛЯ ДЕРЕВА РЕШЕНИЙ"
   ]
  },
  {
   "cell_type": "markdown",
   "id": "9460ee51",
   "metadata": {
    "pycharm": {
     "name": "#%% md\n"
    }
   },
   "source": [
    "## RandomForestClassifier"
   ]
  },
  {
   "cell_type": "code",
   "execution_count": 17,
   "id": "a88e0a07",
   "metadata": {
    "pycharm": {
     "name": "#%%\n"
    }
   },
   "outputs": [
    {
     "data": {
      "text/plain": [
       "80.09170139366701"
      ]
     },
     "execution_count": 17,
     "metadata": {},
     "output_type": "execute_result"
    }
   ],
   "source": [
    "clf3_1 = RandomForestClassifier(n_estimators=50, random_state=21)\n",
    "data3_1 = cross_val_score(clf3_1, X_train, y_train, cv=5, scoring = 'roc_auc')\n",
    "data3_1.mean() * 100 "
   ]
  },
  {
   "cell_type": "code",
   "execution_count": 18,
   "id": "ab8bdde5",
   "metadata": {
    "pycharm": {
     "name": "#%%\n"
    }
   },
   "outputs": [
    {
     "data": {
      "text/plain": [
       "82.1686526713114"
      ]
     },
     "execution_count": 18,
     "metadata": {},
     "output_type": "execute_result"
    }
   ],
   "source": [
    "clf3_2 = RandomForestClassifier(n_estimators=200, random_state=21)\n",
    "data3_2 = cross_val_score(clf3_2, X_train, y_train, cv=5, scoring = 'roc_auc')\n",
    "data3_2.mean() * 100 "
   ]
  },
  {
   "cell_type": "code",
   "execution_count": 19,
   "id": "b875c0b1",
   "metadata": {
    "pycharm": {
     "name": "#%%\n"
    }
   },
   "outputs": [
    {
     "data": {
      "text/plain": [
       "79.67325656740654"
      ]
     },
     "execution_count": 19,
     "metadata": {},
     "output_type": "execute_result"
    }
   ],
   "source": [
    "clf3_3 = RandomForestClassifier(max_depth=10, random_state=21)\n",
    "data3_3 = cross_val_score(clf3_3, X_train, y_train, cv=5, scoring = 'roc_auc')\n",
    "data3_3.mean() * 100 "
   ]
  },
  {
   "cell_type": "markdown",
   "id": "e962754c",
   "metadata": {
    "pycharm": {
     "name": "#%% md\n"
    }
   },
   "source": [
    "## GradientBoostingClassifier"
   ]
  },
  {
   "cell_type": "code",
   "execution_count": 22,
   "id": "1efa3e27",
   "metadata": {
    "pycharm": {
     "name": "#%%\n"
    }
   },
   "outputs": [
    {
     "data": {
      "text/plain": [
       "84.28556885612544"
      ]
     },
     "execution_count": 22,
     "metadata": {},
     "output_type": "execute_result"
    }
   ],
   "source": [
    "clf4_1 = GradientBoostingClassifier(random_state=21, max_depth=10)\n",
    "data4_1 = cross_val_score(clf4_1, X_train, y_train, cv=5, scoring = 'roc_auc')\n",
    "data4_1.mean() * 100 "
   ]
  },
  {
   "cell_type": "code",
   "execution_count": 11,
   "id": "9b6ae57b",
   "metadata": {
    "pycharm": {
     "name": "#%%\n"
    }
   },
   "outputs": [
    {
     "data": {
      "text/plain": [
       "83.80712121489873"
      ]
     },
     "execution_count": 11,
     "metadata": {},
     "output_type": "execute_result"
    }
   ],
   "source": [
    "clf4_2 = GradientBoostingClassifier(random_state=21, n_estimators=200)\n",
    "data4_2 = cross_val_score(clf4_2, X_train, y_train, cv=5, scoring = 'roc_auc')\n",
    "data4_2.mean() * 100 "
   ]
  },
  {
   "cell_type": "code",
   "execution_count": 12,
   "id": "244f8208",
   "metadata": {
    "pycharm": {
     "name": "#%%\n"
    }
   },
   "outputs": [
    {
     "data": {
      "text/plain": [
       "83.89229105283722"
      ]
     },
     "execution_count": 12,
     "metadata": {},
     "output_type": "execute_result"
    }
   ],
   "source": [
    "clf4_3 = GradientBoostingClassifier(random_state=21, learning_rate=0.5)\n",
    "data4_3 = cross_val_score(clf4_3, X_train, y_train, cv=5, scoring = 'roc_auc')\n",
    "data4_3.mean() * 100 "
   ]
  },
  {
   "cell_type": "markdown",
   "id": "15085f74",
   "metadata": {
    "pycharm": {
     "name": "#%% md\n"
    }
   },
   "source": [
    "## ЛУЧШИЕ МОДЕЛИ"
   ]
  },
  {
   "cell_type": "code",
   "execution_count": 13,
   "id": "576e871c",
   "metadata": {
    "pycharm": {
     "name": "#%%\n"
    }
   },
   "outputs": [],
   "source": [
    "from sklearn.metrics import roc_auc_score\n",
    "import pickle\n",
    "def f_importances(coef, names, top=-1):\n",
    "    imp = coef\n",
    "    imp, names = zip(*sorted(list(zip(imp, names))))\n",
    "    if top == -1:\n",
    "        top = len(names)\n",
    "    plt.figure(figsize=(12,5))\n",
    "    plt.barh(range(top), imp[::-1][0:top], align='center')\n",
    "    plt.yticks(range(top), names[::-1][0:top])\n",
    "    plt.show()"
   ]
  },
  {
   "cell_type": "markdown",
   "id": "25f443a6",
   "metadata": {
    "pycharm": {
     "name": "#%% md\n"
    }
   },
   "source": [
    "# <span style=\"color:green\">График RandomForestClassifier</span>"
   ]
  },
  {
   "cell_type": "code",
   "execution_count": 14,
   "id": "787bc9ba",
   "metadata": {
    "pycharm": {
     "name": "#%%\n"
    }
   },
   "outputs": [],
   "source": [
    "clf_RandomForest = RandomForestClassifier(n_estimators=200, random_state=21)\n",
    "RandomForest_best = clf_RandomForest.fit(X_train, y_train)"
   ]
  },
  {
   "cell_type": "code",
   "execution_count": 15,
   "id": "b6f2c934",
   "metadata": {
    "pycharm": {
     "name": "#%%\n"
    }
   },
   "outputs": [
    {
     "data": {
      "text/plain": [
       "0.8274789489789439"
      ]
     },
     "execution_count": 15,
     "metadata": {},
     "output_type": "execute_result"
    }
   ],
   "source": [
    "RandomForest_test = RandomForest_best.predict_proba(X_test)\n",
    "roc_auc_RandomForest = roc_auc_score(y_test, RandomForest_test[:,1])\n",
    "roc_auc_RandomForest"
   ]
  },
  {
   "cell_type": "code",
   "execution_count": 16,
   "id": "18adfe47",
   "metadata": {
    "pycharm": {
     "name": "#%%\n"
    }
   },
   "outputs": [
    {
     "data": {
      "image/png": "[encoded data removed]",
      "text/plain": [
       "<Figure size 864x360 with 1 Axes>"
      ]
     },
     "metadata": {},
     "output_type": "display_data"
    }
   ],
   "source": [
    "f_importances(abs(RandomForest_best.feature_importances_), X_train.columns, top=10)"
   ]
  },
  {
   "cell_type": "markdown",
   "id": "7fc248ab",
   "metadata": {
    "pycharm": {
     "name": "#%% md\n"
    }
   },
   "source": [
    "# <span style=\"color:green\">График GradientBoostingClassifier</span>"
   ]
  },
  {
   "cell_type": "code",
   "execution_count": 17,
   "id": "ca4eea0e",
   "metadata": {
    "pycharm": {
     "name": "#%%\n"
    }
   },
   "outputs": [
    {
     "data": {
      "text/plain": [
       "0.8507199762844946"
      ]
     },
     "execution_count": 17,
     "metadata": {},
     "output_type": "execute_result"
    }
   ],
   "source": [
    "clf_GBC = GradientBoostingClassifier(random_state=21, max_depth=10)\n",
    "GBC_best = clf_GBC.fit(X_train, y_train)\n",
    "GBC_test = GBC_best.predict_proba(X_test)\n",
    "roc_auc_GBC = roc_auc_score(y_test, GBC_test[:,1])\n",
    "roc_auc_GBC"
   ]
  },
  {
   "cell_type": "code",
   "execution_count": 18,
   "id": "5f628f6e",
   "metadata": {
    "pycharm": {
     "name": "#%%\n"
    }
   },
   "outputs": [
    {
     "data": {
      "image/png": "[encoded data removed]",
      "text/plain": [
       "<Figure size 864x360 with 1 Axes>"
      ]
     },
     "metadata": {},
     "output_type": "display_data"
    }
   ],
   "source": [
    "f_importances(abs(GBC_best.feature_importances_), X_train.columns, top=10)"
   ]
  },
  {
   "cell_type": "code",
   "execution_count": 19,
   "id": "e2007d2c",
   "metadata": {
    "pycharm": {
     "name": "#%%\n"
    }
   },
   "outputs": [
    {
     "data": {
      "text/plain": [
       "0.8507199762844946"
      ]
     },
     "execution_count": 19,
     "metadata": {},
     "output_type": "execute_result"
    }
   ],
   "source": [
    "model2 = 'best_model.sav'\n",
    "pickle.dump(clf_GBC, open(model2, 'wb'))\n",
    "loaded_model2 = pickle.load(open(model2, 'rb'))\n",
    "test_GBC = loaded_model2.predict_proba(X_test)\n",
    "test2 = roc_auc_score(y_test, test_GBC[:,1])\n",
    "test2"
   ]
  }
 ],
 "metadata": {
  "kernelspec": {
   "display_name": "Python 3 (ipykernel)",
   "language": "python",
   "name": "python3"
  },
  "language_info": {
   "codemirror_mode": {
    "name": "ipython",
    "version": 3
   },
   "file_extension": ".py",
   "mimetype": "text/x-python",
   "name": "python",
   "nbconvert_exporter": "python",
   "pygments_lexer": "ipython3",
   "version": "3.9.12"
  }
 },
 "nbformat": 4,
 "nbformat_minor": 5
}