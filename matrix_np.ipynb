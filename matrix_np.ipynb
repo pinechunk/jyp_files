{
 "cells": [
  {
   "cell_type": "code",
   "execution_count": 21,
   "metadata": {
    "collapsed": true,
    "pycharm": {
     "name": "#%%\n"
    }
   },
   "outputs": [
    {
     "name": "stdout",
     "output_type": "stream",
     "text": [
      "[[-0.46666667  0.2        -0.86666667  2.73333333]\n",
      " [-0.86666667 -0.2         0.53333333 -1.06666667]\n",
      " [ 1.2         0.2        -0.2         0.4       ]\n",
      " [-0.2        -0.2         0.2        -0.4       ]]\n"
     ]
    }
   ],
   "source": [
    "import numpy as np\n",
    "A = np.array([[0,0,1,1],\n",
    "              [0,3,1,-7],\n",
    "              [2,7,6,1],\n",
    "              [1,2,2,1]])\n",
    "A_inv = np.linalg.inv(A) # Обратная матрица\n",
    "print(A_inv)"
   ]
  },
  {
   "cell_type": "code",
   "execution_count": 15,
   "outputs": [
    {
     "name": "stdout",
     "output_type": "stream",
     "text": [
      "15.0\n"
     ]
    }
   ],
   "source": [
    "print(np.linalg.det(A)) # Определитель матрицы"
   ],
   "metadata": {
    "collapsed": false,
    "pycharm": {
     "name": "#%%\n"
    }
   }
  },
  {
   "cell_type": "code",
   "execution_count": 16,
   "outputs": [
    {
     "name": "stdout",
     "output_type": "stream",
     "text": [
      "4\n"
     ]
    }
   ],
   "source": [
    "from numpy.linalg import matrix_rank\n",
    "print(matrix_rank(A))                # Ранг матрицы"
   ],
   "metadata": {
    "collapsed": false,
    "pycharm": {
     "name": "#%%\n"
    }
   }
  },
  {
   "cell_type": "code",
   "execution_count": 23,
   "outputs": [],
   "source": [
    "A = np.array([[1, 2, 3], [4, 2, 1], [1, 0, 1]])\n",
    "B = np.array([[1, 2, 1], [1, -1, 2], [1, 2, 1]])\n",
    "C = np.array([[2,2], [1, 4]])\n",
    "D = np.array([[3, 1], [2, 1], [-1, 2]])\n",
    "E = np.array([[1, 0, 0], [0, 1, 0], [0, 0, 1]])\n",
    "G = np.array([[1, 1, 2, 3], [4, 2, 1, 3], [2, 1, 2, 3], [1, 2, 5, 4]])"
   ],
   "metadata": {
    "collapsed": false,
    "pycharm": {
     "name": "#%%\n"
    }
   }
  },
  {
   "cell_type": "code",
   "execution_count": 26,
   "outputs": [
    {
     "name": "stdout",
     "output_type": "stream",
     "text": [
      "[[ -6  -6]\n",
      " [ -3 -12]] \n",
      "\n",
      "[[-2  2 -1]\n",
      " [-2 -7  3]\n",
      " [ 1  4 -2]] \n",
      "\n",
      "[[1 4 1]\n",
      " [2 2 0]\n",
      " [3 1 1]] \n",
      "\n",
      "[[ 3  2 -1]\n",
      " [ 1  1  2]] \n",
      "\n",
      "6.0 \n",
      "\n",
      "-9.999999999999998 \n",
      "\n",
      "8.999999999999998 \n",
      "\n",
      "[[-0.2  0.2  0.4]\n",
      " [ 0.3  0.2 -1.1]\n",
      " [ 0.2 -0.2  0.6]] \n",
      "\n",
      "3.0 \n",
      "\n",
      "[[6 6 8]\n",
      " [7 8 9]\n",
      " [2 4 2]] \n",
      "\n"
     ]
    }
   ],
   "source": [
    "print(-3 * C, '\\n')\n",
    "print(-A + 2 * B - 3 * E, '\\n')\n",
    "print(A.transpose(), '\\n') # Транспонирую матрицу\n",
    "print(np.linalg.det(C), '\\n')   # Определитель матрицы\n",
    "print(np.linalg.det(A), '\\n')\n",
    "print(np.linalg.det(G), '\\n')\n",
    "print(np.linalg.inv(A), '\\n')\n",
    "print(np.dot(A, np.linalg.inv(A)).sum(), '\\n') # Сумма элементов произведения матрицы\n",
    "                                                # и обратной матрицы\n",
    "print(np.dot(A, B), '\\n',) # Произведение матриц"
   ],
   "metadata": {
    "collapsed": false,
    "pycharm": {
     "name": "#%%\n"
    }
   }
  }
 ],
 "metadata": {
  "kernelspec": {
   "display_name": "Python 3",
   "language": "python",
   "name": "python3"
  },
  "language_info": {
   "codemirror_mode": {
    "name": "ipython",
    "version": 2
   },
   "file_extension": ".py",
   "mimetype": "text/x-python",
   "name": "python",
   "nbconvert_exporter": "python",
   "pygments_lexer": "ipython2",
   "version": "2.7.6"
  }
 },
 "nbformat": 4,
 "nbformat_minor": 0
}